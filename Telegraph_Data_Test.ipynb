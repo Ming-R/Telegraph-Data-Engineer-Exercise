{
 "cells": [
  {
   "cell_type": "markdown",
   "id": "681a0fa9-8560-4094-858d-c53798bb6c1a",
   "metadata": {},
   "source": [
    "#### **Install Dependencies**"
   ]
  },
  {
   "cell_type": "code",
   "execution_count": 19,
   "id": "678ef426-0647-4aa2-8600-35277186e076",
   "metadata": {},
   "outputs": [
    {
     "name": "stdout",
     "output_type": "stream",
     "text": [
      "Requirement already satisfied: faker in /Applications/anaconda3/lib/python3.12/site-packages (37.0.2)\n",
      "Requirement already satisfied: tzdata in /Applications/anaconda3/lib/python3.12/site-packages (from faker) (2023.3)\n",
      "Note: you may need to restart the kernel to use updated packages.\n"
     ]
    }
   ],
   "source": [
    "%pip install faker"
   ]
  },
  {
   "cell_type": "markdown",
   "id": "5658ee8f-e0bc-4f5c-9a06-aa433f10762b",
   "metadata": {},
   "source": [
    "#### **Generate Fake Data Using Faker**"
   ]
  },
  {
   "cell_type": "code",
   "execution_count": 24,
   "id": "dee8e445-892d-499f-b349-c012446c772d",
   "metadata": {},
   "outputs": [
    {
     "data": {
      "text/html": [
       "<div>\n",
       "<style scoped>\n",
       "    .dataframe tbody tr th:only-of-type {\n",
       "        vertical-align: middle;\n",
       "    }\n",
       "\n",
       "    .dataframe tbody tr th {\n",
       "        vertical-align: top;\n",
       "    }\n",
       "\n",
       "    .dataframe thead th {\n",
       "        text-align: right;\n",
       "    }\n",
       "</style>\n",
       "<table border=\"1\" class=\"dataframe\">\n",
       "  <thead>\n",
       "    <tr style=\"text-align: right;\">\n",
       "      <th></th>\n",
       "      <th>page_name</th>\n",
       "      <th>page_url</th>\n",
       "      <th>user_id</th>\n",
       "      <th>timestamp</th>\n",
       "    </tr>\n",
       "  </thead>\n",
       "  <tbody>\n",
       "    <tr>\n",
       "      <th>0</th>\n",
       "      <td>Article 7</td>\n",
       "      <td>/articles/7</td>\n",
       "      <td>857dc896-be36-43b9-a214-f0bb0bb6f775</td>\n",
       "      <td>2025-02-19 13:20:40.813383</td>\n",
       "    </tr>\n",
       "    <tr>\n",
       "      <th>1</th>\n",
       "      <td>Article 2</td>\n",
       "      <td>/articles/2</td>\n",
       "      <td>857dc896-be36-43b9-a214-f0bb0bb6f775</td>\n",
       "      <td>2025-02-19 06:09:57.602963</td>\n",
       "    </tr>\n",
       "    <tr>\n",
       "      <th>2</th>\n",
       "      <td>Article 3</td>\n",
       "      <td>/articles/3</td>\n",
       "      <td>857dc896-be36-43b9-a214-f0bb0bb6f775</td>\n",
       "      <td>2025-03-18 00:24:55.975703</td>\n",
       "    </tr>\n",
       "    <tr>\n",
       "      <th>3</th>\n",
       "      <td>Article 7</td>\n",
       "      <td>/articles/7</td>\n",
       "      <td>74656218-3c94-4e45-86a7-757dd382d30c</td>\n",
       "      <td>2025-01-29 07:40:38.388382</td>\n",
       "    </tr>\n",
       "    <tr>\n",
       "      <th>4</th>\n",
       "      <td>Article 7</td>\n",
       "      <td>/articles/7</td>\n",
       "      <td>74656218-3c94-4e45-86a7-757dd382d30c</td>\n",
       "      <td>2025-03-02 03:45:17.502078</td>\n",
       "    </tr>\n",
       "  </tbody>\n",
       "</table>\n",
       "</div>"
      ],
      "text/plain": [
       "   page_name     page_url                               user_id  \\\n",
       "0  Article 7  /articles/7  857dc896-be36-43b9-a214-f0bb0bb6f775   \n",
       "1  Article 2  /articles/2  857dc896-be36-43b9-a214-f0bb0bb6f775   \n",
       "2  Article 3  /articles/3  857dc896-be36-43b9-a214-f0bb0bb6f775   \n",
       "3  Article 7  /articles/7  74656218-3c94-4e45-86a7-757dd382d30c   \n",
       "4  Article 7  /articles/7  74656218-3c94-4e45-86a7-757dd382d30c   \n",
       "\n",
       "                   timestamp  \n",
       "0 2025-02-19 13:20:40.813383  \n",
       "1 2025-02-19 06:09:57.602963  \n",
       "2 2025-03-18 00:24:55.975703  \n",
       "3 2025-01-29 07:40:38.388382  \n",
       "4 2025-03-02 03:45:17.502078  "
      ]
     },
     "execution_count": 24,
     "metadata": {},
     "output_type": "execute_result"
    }
   ],
   "source": [
    "import pandas as pd\n",
    "from faker import Faker\n",
    "import random\n",
    "\n",
    "# Initialize Faker\n",
    "fake = Faker()\n",
    "\n",
    "# Generate fake hitlog data\n",
    "data = []\n",
    "for _ in range(1000):\n",
    "    user_id = fake.uuid4()\n",
    "    # Generate article visit events\n",
    "    for _ in range(random.randint(1, 5)):\n",
    "        article_num = random.randint(1, 10)\n",
    "        timestamp = fake.date_time_this_year()\n",
    "        page_name = f\"Article {article_num}\"\n",
    "        page_url = f\"/articles/{article_num}\"\n",
    "        data.append([page_name, page_url, user_id, timestamp])\n",
    "\n",
    "    # Randomly add a registration event\n",
    "    if random.choice([True, False]):\n",
    "        data.append([\"Register\", \"/register\", user_id, fake.date_time_this_year()])\n",
    "\n",
    "# Save to CSV\n",
    "df = pd.DataFrame(data, columns=[\"page_name\", \"page_url\", \"user_id\", \"timestamp\"])\n",
    "df.to_csv(\"hitlog.csv\", index=False)\n",
    "\n",
    "# Display the first few rows\n",
    "df.head()"
   ]
  },
  {
   "cell_type": "markdown",
   "id": "56f108db-72d3-48c6-a115-a8abe6184f49",
   "metadata": {},
   "source": [
    "#### **Pipeline Functions**\n",
    "Define the pipeline functions to read the hitlog.csv, group user journeys, identify articles before registration, and output the top 3 influential articles."
   ]
  },
  {
   "cell_type": "code",
   "execution_count": 40,
   "id": "b07f1ef8-64c0-4522-b893-d7449c688998",
   "metadata": {},
   "outputs": [],
   "source": [
    "import csv\n",
    "from collections import defaultdict, Counter\n",
    "from datetime import datetime\n",
    "\n",
    "# Function to read hitlog.csv\n",
    "def read_hitlog(file_path):\n",
    "    data = []\n",
    "    with open(file_path, newline='') as csvfile:\n",
    "        reader = csv.DictReader(csvfile)\n",
    "        for row in reader:\n",
    "            row['timestamp'] = datetime.strptime(row['timestamp'], '%Y-%m-%d %H:%M:%S.%f')\n",
    "            data.append(row)\n",
    "    return data\n",
    "\n",
    "# Function to group by user_id and sort by timestamp\n",
    "def group_by_user(hitlog):\n",
    "    user_journeys = defaultdict(list)\n",
    "    for entry in hitlog:\n",
    "        user_journeys[entry['user_id']].append(entry)\n",
    "    # Sort each user's journey by timestamp\n",
    "    for user_id in user_journeys:\n",
    "        user_journeys[user_id].sort(key=lambda x: x['timestamp'])\n",
    "    return user_journeys\n",
    "\n",
    "# Function to extract articles before registration\n",
    "def extract_articles_before_registration(user_journeys):\n",
    "    article_counter = Counter()\n",
    "    for entries in user_journeys.values():\n",
    "        article_set = set()\n",
    "        for i, entry in enumerate(entries):\n",
    "            if entry['page_url'] == '/register':\n",
    "                # Gather all articles before registration\n",
    "                for prior in entries[:i]:\n",
    "                    if prior['page_url'].startswith('/articles/'):\n",
    "                        article_set.add((prior['page_name'], prior['page_url']))\n",
    "                break  # Only consider the first registration per user\n",
    "        for article in article_set:\n",
    "            article_counter[article] += 1\n",
    "    return article_counter\n",
    "\n",
    "# Function to write top articles to a CSV\n",
    "def write_top_articles(counter, output_path, top_n=3):\n",
    "    top_articles = counter.most_common(top_n)\n",
    "    with open(output_path, 'w', newline='') as csvfile:\n",
    "        writer = csv.writer(csvfile)\n",
    "        writer.writerow(['page_name', 'page_url', 'total'])\n",
    "        for (name, url), total in top_articles:\n",
    "            writer.writerow([name, url, total])"
   ]
  },
  {
   "cell_type": "markdown",
   "id": "38f478bf-9efc-4a45-8044-58cd1a551aec",
   "metadata": {},
   "source": [
    "#### **Run the Pipeline**\n",
    "Process the fake data and generate the top 3 articles."
   ]
  },
  {
   "cell_type": "code",
   "execution_count": 43,
   "id": "0ecbaa0d-4f40-440d-ac0c-f126d5ba683e",
   "metadata": {},
   "outputs": [
    {
     "data": {
      "text/html": [
       "<div>\n",
       "<style scoped>\n",
       "    .dataframe tbody tr th:only-of-type {\n",
       "        vertical-align: middle;\n",
       "    }\n",
       "\n",
       "    .dataframe tbody tr th {\n",
       "        vertical-align: top;\n",
       "    }\n",
       "\n",
       "    .dataframe thead th {\n",
       "        text-align: right;\n",
       "    }\n",
       "</style>\n",
       "<table border=\"1\" class=\"dataframe\">\n",
       "  <thead>\n",
       "    <tr style=\"text-align: right;\">\n",
       "      <th></th>\n",
       "      <th>page_name</th>\n",
       "      <th>page_url</th>\n",
       "      <th>total</th>\n",
       "    </tr>\n",
       "  </thead>\n",
       "  <tbody>\n",
       "    <tr>\n",
       "      <th>0</th>\n",
       "      <td>Article 4</td>\n",
       "      <td>/articles/4</td>\n",
       "      <td>83</td>\n",
       "    </tr>\n",
       "    <tr>\n",
       "      <th>1</th>\n",
       "      <td>Article 3</td>\n",
       "      <td>/articles/3</td>\n",
       "      <td>81</td>\n",
       "    </tr>\n",
       "    <tr>\n",
       "      <th>2</th>\n",
       "      <td>Article 10</td>\n",
       "      <td>/articles/10</td>\n",
       "      <td>76</td>\n",
       "    </tr>\n",
       "  </tbody>\n",
       "</table>\n",
       "</div>"
      ],
      "text/plain": [
       "    page_name      page_url  total\n",
       "0   Article 4   /articles/4     83\n",
       "1   Article 3   /articles/3     81\n",
       "2  Article 10  /articles/10     76"
      ]
     },
     "execution_count": 43,
     "metadata": {},
     "output_type": "execute_result"
    }
   ],
   "source": [
    "# Process the hitlog.csv\n",
    "hitlog = read_hitlog(\"hitlog.csv\")\n",
    "journeys = group_by_user(hitlog)\n",
    "counter = extract_articles_before_registration(journeys)\n",
    "write_top_articles(counter, \"top_articles.csv\")\n",
    "\n",
    "# Display the top 3 articles\n",
    "pd.read_csv(\"top_articles.csv\")"
   ]
  },
  {
   "cell_type": "markdown",
   "id": "a7d9dec0-fb76-4c4d-b97c-9f96d0dd9a14",
   "metadata": {},
   "source": [
    "#### **Unit Tests**"
   ]
  },
  {
   "cell_type": "code",
   "execution_count": 49,
   "id": "20e21395-1e50-4a38-b6ac-17995eb3e2d5",
   "metadata": {},
   "outputs": [
    {
     "name": "stderr",
     "output_type": "stream",
     "text": [
      "test_extract_articles_before_registration (__main__.TestPipeline.test_extract_articles_before_registration) ... ok\n",
      "test_group_by_user (__main__.TestPipeline.test_group_by_user) ... ok\n",
      "test_article_counts (__main__.TestTelegraphPipeline.test_article_counts) ... ok\n",
      "test_only_top_3_returned (__main__.TestTelegraphPipeline.test_only_top_3_returned) ... ok\n",
      "\n",
      "----------------------------------------------------------------------\n",
      "Ran 4 tests in 0.024s\n",
      "\n",
      "OK\n"
     ]
    },
    {
     "data": {
      "text/plain": [
       "<unittest.main.TestProgram at 0x158edef60>"
      ]
     },
     "execution_count": 49,
     "metadata": {},
     "output_type": "execute_result"
    }
   ],
   "source": [
    "import unittest\n",
    "\n",
    "class TestTelegraphPipeline(unittest.TestCase):\n",
    "\n",
    "    def setUp(self):\n",
    "        # Build sample data based on the PDF example\n",
    "        self.sample_data = [\n",
    "            {'page_name': 'Article 1', 'page_url': '/articles/1', 'user_id': 'user1', 'timestamp': datetime(2025, 3, 1, 10, 0, 0)},\n",
    "            {'page_name': 'Article 2', 'page_url': '/articles/2', 'user_id': 'user1', 'timestamp': datetime(2025, 3, 1, 10, 1, 0)},\n",
    "            {'page_name': 'Article 3', 'page_url': '/articles/3', 'user_id': 'user1', 'timestamp': datetime(2025, 3, 1, 10, 2, 0)},\n",
    "            {'page_name': 'Register',   'page_url': '/register',   'user_id': 'user1', 'timestamp': datetime(2025, 3, 1, 10, 3, 0)},\n",
    "\n",
    "            {'page_name': 'Article 1', 'page_url': '/articles/1', 'user_id': 'user2', 'timestamp': datetime(2025, 3, 2, 9, 0, 0)},\n",
    "            {'page_name': 'Register',   'page_url': '/register',   'user_id': 'user2', 'timestamp': datetime(2025, 3, 2, 9, 1, 0)},\n",
    "\n",
    "            {'page_name': 'Article 2', 'page_url': '/articles/2', 'user_id': 'user3', 'timestamp': datetime(2025, 3, 3, 8, 0, 0)},\n",
    "            {'page_name': 'Article 1', 'page_url': '/articles/1', 'user_id': 'user3', 'timestamp': datetime(2025, 3, 3, 8, 1, 0)},\n",
    "            {'page_name': 'Register',   'page_url': '/register',   'user_id': 'user3', 'timestamp': datetime(2025, 3, 3, 8, 2, 0)},\n",
    "        ]\n",
    "\n",
    "    def test_article_counts(self):\n",
    "        # Use the real pipeline logic\n",
    "        journeys = group_by_user(self.sample_data)\n",
    "        counter = extract_articles_before_registration(journeys)\n",
    "\n",
    "        self.assertEqual(counter[('Article 1', '/articles/1')], 3)\n",
    "        self.assertEqual(counter[('Article 2', '/articles/2')], 2)\n",
    "        self.assertEqual(counter[('Article 3', '/articles/3')], 1)\n",
    "\n",
    "    def test_only_top_3_returned(self):\n",
    "        journeys = group_by_user(self.sample_data)\n",
    "        counter = extract_articles_before_registration(journeys)\n",
    "        top_articles = counter.most_common(3)\n",
    "        self.assertEqual(len(top_articles), 3)\n",
    "\n",
    "# Run the tests inside the notebook\n",
    "unittest.main(argv=[''], verbosity=2, exit=False)\n"
   ]
  },
  {
   "cell_type": "code",
   "execution_count": null,
   "id": "1ab13e1f-3d0d-4f7e-9f85-66cfa6b4ff3b",
   "metadata": {},
   "outputs": [],
   "source": []
  }
 ],
 "metadata": {
  "kernelspec": {
   "display_name": "Python [conda env:base] *",
   "language": "python",
   "name": "conda-base-py"
  },
  "language_info": {
   "codemirror_mode": {
    "name": "ipython",
    "version": 3
   },
   "file_extension": ".py",
   "mimetype": "text/x-python",
   "name": "python",
   "nbconvert_exporter": "python",
   "pygments_lexer": "ipython3",
   "version": "3.12.7"
  }
 },
 "nbformat": 4,
 "nbformat_minor": 5
}
